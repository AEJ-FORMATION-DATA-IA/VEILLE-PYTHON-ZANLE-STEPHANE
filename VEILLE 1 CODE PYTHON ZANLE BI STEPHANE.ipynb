{
 "cells": [
  {
   "cell_type": "markdown",
   "metadata": {},
   "source": [
    "# VEILLE TECHNOLOGIQUE 1 SUR PYTHON"
   ]
  },
  {
   "cell_type": "code",
   "execution_count": null,
   "metadata": {},
   "outputs": [],
   "source": []
  },
  {
   "cell_type": "markdown",
   "metadata": {},
   "source": [
    "### 1-Comment déclarer une variable en python?  \n",
    "    => pour le faire il faut simplement choisir le nom de la variable que tu as en tete et tu l'affect simplement une valeur"
   ]
  },
  {
   "cell_type": "code",
   "execution_count": 1,
   "metadata": {},
   "outputs": [],
   "source": [
    "age=65 \n",
    "nom= \"ZANLE\"\n",
    "Taille=1.8\n",
    "## cependant comme dans la plus part des language la variable peut pas débuter par un nombre"
   ]
  },
  {
   "cell_type": "markdown",
   "metadata": {},
   "source": [
    "## 2-Quelles sont les differents types de variables en python ?  \n",
    "    Les differents types de variables en python sont:  \n",
    "        - le type entier: int  \n",
    "        -le type réel   : float  \n",
    "        -le type chaine de caractères: string\n",
    "        -le type booléen : bool"
   ]
  },
  {
   "cell_type": "code",
   "execution_count": null,
   "metadata": {},
   "outputs": [],
   "source": []
  },
  {
   "cell_type": "markdown",
   "metadata": {},
   "source": [
    "## 3- Déclarons les variables A ,B et C tels que A prend la valeur 15 , B la valeur 4 et C la valeur A+B  "
   ]
  },
  {
   "cell_type": "code",
   "execution_count": 3,
   "metadata": {},
   "outputs": [],
   "source": [
    "A=15"
   ]
  },
  {
   "cell_type": "code",
   "execution_count": 4,
   "metadata": {},
   "outputs": [],
   "source": [
    "B=4"
   ]
  },
  {
   "cell_type": "code",
   "execution_count": 5,
   "metadata": {},
   "outputs": [],
   "source": [
    "C=A+B"
   ]
  },
  {
   "cell_type": "code",
   "execution_count": null,
   "metadata": {},
   "outputs": [],
   "source": []
  },
  {
   "cell_type": "markdown",
   "metadata": {},
   "source": [
    "## 4-Utilisons print pour afficher la valeur de A+B sous la forme (le résultat de A+B=valeur)"
   ]
  },
  {
   "cell_type": "code",
   "execution_count": 6,
   "metadata": {},
   "outputs": [
    {
     "name": "stdout",
     "output_type": "stream",
     "text": [
      "le résultat de 15 + 4 = 19\n"
     ]
    }
   ],
   "source": [
    "print(\"le résultat de\",A,\"+\",B,\"=\",(A+B))"
   ]
  },
  {
   "cell_type": "code",
   "execution_count": 10,
   "metadata": {},
   "outputs": [
    {
     "name": "stdout",
     "output_type": "stream",
     "text": [
      "le résultat de 15+4= 19\n"
     ]
    }
   ],
   "source": [
    "#autre méthode \n",
    "print(\"le résultat de {}+{}= {}\".format(A,B,A+B))"
   ]
  },
  {
   "cell_type": "code",
   "execution_count": null,
   "metadata": {},
   "outputs": [],
   "source": []
  },
  {
   "cell_type": "markdown",
   "metadata": {},
   "source": [
    "## 5-Faire les Opérations suivantes:"
   ]
  },
  {
   "cell_type": "code",
   "execution_count": 23,
   "metadata": {},
   "outputs": [],
   "source": [
    "A=15\n",
    "B=4\n",
    "c=A+B\n",
    "D=A*B}\n",
    "E=A**B                  }        # en python la puissance est representé par **  ;exp: 2**4 \n",
    "F=A/B                           #  le symbole / represente la division en python\n",
    "G=int(A/B)                      # le int permet de faire une division entière\n",
    "H1=float(A/B)-int(A/B)          # Prémière méthode pour recupperer la partie décimale d'un nombre \n",
    "H2=(A/B)%1                      # deuxième méthode pour récupperer la partie décimale d'un nombre\n"
   ]
  },
  {
   "cell_type": "code",
   "execution_count": 30,
   "metadata": {},
   "outputs": [
    {
     "name": "stdout",
     "output_type": "stream",
     "text": [
      "la valeur de A=15  et B=4\n",
      "la valeur de C est:   15+4=19\n",
      "la valeur de D est :  15*4=60\n",
      "la valeur de E est:   15**4=50625\n",
      "la valeur de F est:   15/4= 3.75\n",
      "la valeur de G est:    int(15/4)= 3\n",
      "la valeur de H1 est:   float(15/4)-int(15/4)=0.75\n",
      "la valeur de H2 est:   (15/4)%1=0.75\n"
     ]
    }
   ],
   "source": [
    "print(\"la valeur de A={}  et B={}\".format(A,B))\n",
    "\n",
    "print(\"la valeur de C est:   {}+{}={}\".format(A,B,C))\n",
    "\n",
    "print(\"la valeur de D est :  {}*{}={}\".format(A,B,D))\n",
    "\n",
    "print(\"la valeur de E est:   {}**{}={}\".format(A,B,E))\n",
    "\n",
    "print(\"la valeur de F est:   {}/{}= {}\".format(A,B,F))\n",
    "\n",
    "print(\"la valeur de G est:    int({}/{})= {}\".format(A,B,G))\n",
    "\n",
    "print(\"la valeur de H1 est:   float({}/{})-int({}/{})={}\".format(A,B,A,B,H1))\n",
    "\n",
    "print(\"la valeur de H2 est:   ({}/{})%1={}\".format(A,B,H2))"
   ]
  },
  {
   "cell_type": "code",
   "execution_count": null,
   "metadata": {},
   "outputs": [],
   "source": []
  },
  {
   "cell_type": "markdown",
   "metadata": {},
   "source": [
    "## 6-CREATION DE DICTIONNAIRE EN PYTHON    \n",
    "\n",
    "pour créer un dictionnaire vide en python il suffit d'écrire: nom_de_ton_dictionnaire={}  \n",
    "exemple: dico={}"
   ]
  },
  {
   "cell_type": "markdown",
   "metadata": {},
   "source": [
    "### -création de notre prémier dictionnaire initialisé avec les valeurs des opérations réaliser plus haut"
   ]
  },
  {
   "cell_type": "code",
   "execution_count": 40,
   "metadata": {},
   "outputs": [
    {
     "name": "stdout",
     "output_type": "stream",
     "text": [
      "{'15': 15, '4': 4, '15+4': 19}\n"
     ]
    }
   ],
   "source": [
    "premier_dic={\"15\":15,\"4\":4,\"15+4\":15+4}\n",
    "#affichons le dictionnaire avec print\n",
    "print(premier_dic)"
   ]
  },
  {
   "cell_type": "code",
   "execution_count": 44,
   "metadata": {},
   "outputs": [
    {
     "data": {
      "text/plain": [
       "{'15': 15, '4': 4, '15+4': 19, '15**4': 50625, '15/4': 3.75}"
      ]
     },
     "execution_count": 44,
     "metadata": {},
     "output_type": "execute_result"
    }
   ],
   "source": [
    "# ajoutons 15**4 et 15/4\n",
    "premier_dic[\"15**4\"]=15**4\n",
    "premier_dic[\"15/4\"]=15/4\n",
    "#affichons la liste de notre dictionnaire\n",
    "premier_dic"
   ]
  },
  {
   "cell_type": "code",
   "execution_count": 52,
   "metadata": {},
   "outputs": [
    {
     "name": "stdout",
     "output_type": "stream",
     "text": [
      "{'15': 16, '4': 4, '15+4': 19, '15**4': 50625, '15/4': 3.75}\n"
     ]
    }
   ],
   "source": [
    "#pour changer la valeur d'une clé il suffit d'affecter une nouvelle valeur à la clé \n",
    "premier_dic[\"15\"]=16\n",
    "\n",
    "#affichons le dictionnaire\n",
    "print(premier_dic)"
   ]
  },
  {
   "cell_type": "code",
   "execution_count": 54,
   "metadata": {},
   "outputs": [
    {
     "data": {
      "text/plain": [
       "dict_keys(['15', '4', '15+4', '15**4', '15/4'])"
      ]
     },
     "execution_count": 54,
     "metadata": {},
     "output_type": "execute_result"
    }
   ],
   "source": [
    "#afficher la liste des clés du dictionnaire\n",
    "\n",
    "premier_dic.keys()"
   ]
  },
  {
   "cell_type": "code",
   "execution_count": 55,
   "metadata": {},
   "outputs": [
    {
     "data": {
      "text/plain": [
       "dict_values([16, 4, 19, 50625, 3.75])"
      ]
     },
     "execution_count": 55,
     "metadata": {},
     "output_type": "execute_result"
    }
   ],
   "source": [
    "#afficher la liste des valeurs du dictionnaire\n",
    "premier_dic.values()"
   ]
  },
  {
   "cell_type": "code",
   "execution_count": 59,
   "metadata": {},
   "outputs": [
    {
     "name": "stdout",
     "output_type": "stream",
     "text": [
      "15 16\n",
      "4 4\n",
      "15+4 19\n",
      "15**4 50625\n",
      "15/4 3.75\n"
     ]
    }
   ],
   "source": [
    "#affichons la liste des clés values du dictionnaire\n",
    "for i,j in premier_dic.items():\n",
    "    print(i,j)"
   ]
  },
  {
   "cell_type": "code",
   "execution_count": null,
   "metadata": {},
   "outputs": [],
   "source": []
  },
  {
   "cell_type": "markdown",
   "metadata": {},
   "source": [
    "## 7-Création des Tuples en python   \n",
    "    pour créer un tuple vide en python il suffit d'écrire: nom_de_ton_tuple=()"
   ]
  },
  {
   "cell_type": "code",
   "execution_count": 61,
   "metadata": {},
   "outputs": [
    {
     "data": {
      "text/plain": [
       "(15, 4, 19)"
      ]
     },
     "execution_count": 61,
     "metadata": {},
     "output_type": "execute_result"
    }
   ],
   "source": [
    "#création d''un tuple déja initialisé \n",
    "premier_tup=(15,4,15+4)\n",
    "\n",
    "#affichons notre tuple\n",
    "premier_tup"
   ]
  },
  {
   "cell_type": "markdown",
   "metadata": {},
   "source": [
    "### Les tuples sont immutable c'est à dire qu'on peut pas les modifier (ajouter, supprimer...)"
   ]
  },
  {
   "cell_type": "code",
   "execution_count": null,
   "metadata": {},
   "outputs": [],
   "source": []
  },
  {
   "cell_type": "markdown",
   "metadata": {},
   "source": [
    "## 8-Les listes en puthon  \n",
    "    pour créer une liste vide en python il suffit de d'écrire: nom_de_ta_liste=[]  \n",
    "    exemple: fruit=[]"
   ]
  },
  {
   "cell_type": "code",
   "execution_count": 101,
   "metadata": {},
   "outputs": [],
   "source": [
    "# crétion de notre première liste\n",
    "liste1=[\"A\",\"B\",\"C\",\"D\"]\n",
    "\n",
    "# crétion de notre deuxième liste\n",
    "liste2=[15,4,15+4,15*4]"
   ]
  },
  {
   "cell_type": "code",
   "execution_count": 102,
   "metadata": {},
   "outputs": [],
   "source": [
    "# crétion de notre troisième liste\n",
    "\n",
    "liste3=[liste1,liste2]"
   ]
  },
  {
   "cell_type": "code",
   "execution_count": 103,
   "metadata": {},
   "outputs": [
    {
     "data": {
      "text/plain": [
       "[['A', 'B', 'C', 'D'], [15, 4, 19, 60]]"
      ]
     },
     "execution_count": 103,
     "metadata": {},
     "output_type": "execute_result"
    }
   ],
   "source": [
    "# affichons la liste 3\n",
    "liste3"
   ]
  },
  {
   "cell_type": "code",
   "execution_count": 104,
   "metadata": {},
   "outputs": [
    {
     "name": "stdout",
     "output_type": "stream",
     "text": [
      "['A', 'B', 'C', 'D', 'E', 'F']\n"
     ]
    }
   ],
   "source": [
    "# ajoutons E et F à la liste 1\n",
    "liste1.append(\"E\")\n",
    "liste1.append(\"F\")\n",
    "print(liste1)"
   ]
  },
  {
   "cell_type": "code",
   "execution_count": 105,
   "metadata": {},
   "outputs": [],
   "source": [
    "#supprimons B de l liste1\n",
    "liste1.remove(\"B\")"
   ]
  },
  {
   "cell_type": "code",
   "execution_count": 106,
   "metadata": {},
   "outputs": [
    {
     "name": "stdout",
     "output_type": "stream",
     "text": [
      "['A', 'C', 'D', 'E', 'F']\n"
     ]
    }
   ],
   "source": [
    "# affichons la liste1\n",
    "print(liste1)"
   ]
  },
  {
   "cell_type": "code",
   "execution_count": 107,
   "metadata": {},
   "outputs": [],
   "source": [
    "# remplacons A par G dans la liste1\n",
    "liste1[liste1.index(\"A\")]=\"G\""
   ]
  },
  {
   "cell_type": "code",
   "execution_count": 109,
   "metadata": {},
   "outputs": [
    {
     "name": "stdout",
     "output_type": "stream",
     "text": [
      "['G', 'C', 'D', 'E', 'F']\n"
     ]
    }
   ],
   "source": [
    "print(liste1)"
   ]
  },
  {
   "cell_type": "markdown",
   "metadata": {},
   "source": [
    "## PROGRAMES A EXECUTER.\n"
   ]
  },
  {
   "cell_type": "markdown",
   "metadata": {},
   "source": [
    "## Premier  Programme"
   ]
  },
  {
   "cell_type": "code",
   "execution_count": 14,
   "metadata": {},
   "outputs": [
    {
     "name": "stdout",
     "output_type": "stream",
     "text": [
      "entrez un entier a=52.9\n",
      "entrez un entier b=45.23\n",
      "52+45=97\n"
     ]
    }
   ],
   "source": [
    "import sys\n",
    "try:\n",
    "    a=float(input(\"entrez un entier a=\"))\n",
    "    a=int(a)\n",
    "except ValueError:\n",
    "    print(\"vous avez fait une érreur, la valeur entré n'est pas un nombre\")\n",
    "    sys.exit(1)\n",
    "\n",
    "try:\n",
    "    b=float(input(\"entrez un entier b=\"))\n",
    "    b=int(b)\n",
    "    print(\"{}+{}={}\".format(a,b,a+b))\n",
    "except ValueError:\n",
    "    print(\"vous avez fait une érreur, la valeur entré n'est pas un nombre\")\n",
    "    sys.exit(1)"
   ]
  },
  {
   "cell_type": "code",
   "execution_count": null,
   "metadata": {},
   "outputs": [],
   "source": []
  },
  {
   "cell_type": "markdown",
   "metadata": {},
   "source": [
    "## DEUXIEME PROGRAMME"
   ]
  },
  {
   "cell_type": "code",
   "execution_count": 13,
   "metadata": {},
   "outputs": [
    {
     "name": "stdout",
     "output_type": "stream",
     "text": [
      "antrez un nombre enier a= 86\n",
      "entrez un autre nombre entier b= 12\n",
      "86 est supperieur à 12\n"
     ]
    }
   ],
   "source": [
    "try:\n",
    "    a=float(input(\"antrez un nombre enier a= \"))\n",
    "    a=int(a)  \n",
    "except ValueError:    \n",
    "    print(\"vous avez fait une érreur\")\n",
    "    sys.exit(1)\n",
    "try:\n",
    "    \n",
    "    b=float(input(\"entrez un autre nombre entier b= \"))\n",
    "    b=int(b)\n",
    "except:\n",
    "    print(\"vous avez fait une érreur\")\n",
    "    sys.exit(1)\n",
    "finally:\n",
    "    if a>b:\n",
    "          print(\"{} est supperieur à {}\".format(a,b))\n",
    "    elif a<b:\n",
    "          print(\"{} est inférieur à {}\".format(a,b))\n",
    "    else:\n",
    "         print(\"{}={}\".format(a,b))"
   ]
  },
  {
   "cell_type": "code",
   "execution_count": null,
   "metadata": {},
   "outputs": [],
   "source": []
  }
 ],
 "metadata": {
  "kernelspec": {
   "display_name": "Python 3",
   "language": "python",
   "name": "python3"
  },
  "language_info": {
   "codemirror_mode": {
    "name": "ipython",
    "version": 3
   },
   "file_extension": ".py",
   "mimetype": "text/x-python",
   "name": "python",
   "nbconvert_exporter": "python",
   "pygments_lexer": "ipython3",
   "version": "3.7.6"
  }
 },
 "nbformat": 4,
 "nbformat_minor": 4
}
